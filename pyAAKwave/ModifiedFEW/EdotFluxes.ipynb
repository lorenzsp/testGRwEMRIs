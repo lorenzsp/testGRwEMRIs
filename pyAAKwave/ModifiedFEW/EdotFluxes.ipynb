{
 "cells": [
  {
   "cell_type": "markdown",
   "id": "fossil-shock",
   "metadata": {},
   "source": [
    "# Fluxes\n",
    "Download data from\n",
    "https://github.com/BlackHolePerturbationToolkit/CircularOrbitSelfForceData"
   ]
  },
  {
   "cell_type": "code",
   "execution_count": 1,
   "id": "integrated-documentary",
   "metadata": {},
   "outputs": [],
   "source": [
    "import numpy as np\n",
    "import matplotlib.pyplot as plt\n",
    "from few.utils.utility import CubicSpline\n",
    "\n",
    "def Omega_phi_eqpro(r, a):\n",
    "        return(1./(np.sqrt(r*r*r) + a))\n",
    "\n",
    "def EdotPN(r,a):\n",
    "    y = np.power(Omega_phi_eqpro(r,a),2./3.)\n",
    "    res = 6.4*np.power(y,5) - 23.752380952380953*np.power(y,6) + 1.6*(50.26548245743669 - 11.*a)*np.power(y,6.5) + (-31.54215167548501 + 13.2*np.power(a,2))*np.power(y,7) + 0.009523809523809525*(-25732.785425553997 - 2646.*a - 504.*np.power(a,3))*np.power(y,7.5) + \\\n",
    "   (-649.6614141423464 + 260.32427983539094*a + 163.36281798666926*np.power(a,2) - 32.13333333333333*np.power(a,3))*np.power(y,8.5) + np.power(y,8)*(740.6829867239124 - 217.8170906488923*a + 7.758730158730159*np.power(a,2) - 52.17523809523809*np.log(y)) #+\\\n",
    "       #np.power(y,9)*(-748.828100625135 - 515.5802343491364*a + 69.31499118165785*np.power(a,2) + 5.2*np.power(a,4) + 3.2*np.sqrt(1. - 1.*np.power(a,2)) + 41.6*np.power(a,2)*np.sqrt(1. - 1.*np.power(a,2)) + 19.2*np.power(a,4)*np.sqrt(1. - 1.*np.power(a,2)) + 12.8*(a + 3.*np.power(a,3)) + 168.77786848072563*np.log(y))\n",
    "\n",
    "    return res\n",
    "\n",
    "def isco_pro(a):\n",
    "      Z1 = 1. + (np.power(1. + a, 1./3.) + np.power(1. - a, 1./3.)) * np.power((1. + a)*(1. - a), 1./3.)\n",
    "      Z2 = np.sqrt(3.*a*a + Z1*Z1)\n",
    "\n",
    "      return(3. + Z2 - np.sqrt((3. - Z1)*(3. + Z1 + 2.*Z2)))\n",
    "\n",
    "\n",
    "def isco_kerr(a):\n",
    "    isc = 3 + np.sqrt(3*np.power(a,2) + np.power(1 + np.power(1 - np.power(a,2),0.3333333333333333)*(np.power(1 - a,0.3333333333333333) + np.power(1 + a,0.3333333333333333)),2)) - \\\n",
    "   np.sqrt((2 - np.power(1 - np.power(a,2),0.3333333333333333)*(np.power(1 - a,0.3333333333333333) + np.power(1 + a,0.3333333333333333)))*\\\n",
    "     (4 + np.power(1 - np.power(a,2),0.3333333333333333)*(np.power(1 - a,0.3333333333333333) + np.power(1 + a,0.3333333333333333)) + \\\n",
    "       2*np.sqrt(3*np.power(a,2) + np.power(1 + np.power(1 - np.power(a,2),0.3333333333333333)*(np.power(1 - a,0.3333333333333333) + np.power(1 + a,0.3333333333333333)),2))))\n",
    "    return isc\n"
   ]
  },
  {
   "cell_type": "code",
   "execution_count": 3,
   "metadata": {},
   "outputs": [],
   "source": [
    "radius = np.loadtxt('../../fluxes/flux_tensor.dat')[:,0]\n",
    "a_array= np.loadtxt('../../fluxes/flux_tensor.dat')[:,1]\n",
    "u_array =np.round( np.log( radius - isco_pro(a_array) +3.9),decimals=8)\n",
    "flux_data = np.loadtxt('../../fluxes/flux_tensor.dat')[:,2]\n",
    "flux_scalar = np.loadtxt('../../fluxes/flux_scalar.dat')[:,2]"
   ]
  },
  {
   "cell_type": "code",
   "execution_count": 4,
   "metadata": {},
   "outputs": [
    {
     "output_type": "execute_result",
     "data": {
      "text/plain": [
       "-1.0"
      ]
     },
     "metadata": {},
     "execution_count": 4
    }
   ],
   "source": [
    "u_array[0]-u_array[20]"
   ]
  },
  {
   "cell_type": "code",
   "execution_count": 6,
   "metadata": {},
   "outputs": [
    {
     "output_type": "execute_result",
     "data": {
      "text/plain": [
       "0.0"
      ]
     },
     "metadata": {},
     "execution_count": 6
    }
   ],
   "source": [
    "np.sum(np.loadtxt('../../fluxes/flux_scalar.dat')[:,0]-np.loadtxt('../../fluxes/flux_tensor.dat')[:,0])"
   ]
  },
  {
   "cell_type": "markdown",
   "id": "recreational-frederick",
   "metadata": {},
   "source": [
    "## Total Flux"
   ]
  },
  {
   "cell_type": "code",
   "execution_count": 7,
   "metadata": {
    "tags": []
   },
   "outputs": [],
   "source": [
    "with open('few/files/FluxesEdot_scalar_tensor.dat', 'w') as f:\n",
    "    for j in range(len(a_array)):\n",
    "        f.write( str(flux_scalar[j])+'\\t' +str(flux_data[j])+'\\t' +  str(u_array[j] )+'\\t' + str(a_array[j]) )\n",
    "        f.write('\\n')\n",
    "    f.close()"
   ]
  },
  {
   "cell_type": "code",
   "execution_count": null,
   "metadata": {},
   "outputs": [],
   "source": []
  }
 ],
 "metadata": {
  "kernelspec": {
   "display_name": "Python 3.7.9 64-bit ('few_env': conda)",
   "language": "python",
   "name": "python37964bitfewenvcondab405b48aca304f52a72cce95cdac9fc3"
  },
  "language_info": {
   "codemirror_mode": {
    "name": "ipython",
    "version": 3
   },
   "file_extension": ".py",
   "mimetype": "text/x-python",
   "name": "python",
   "nbconvert_exporter": "python",
   "pygments_lexer": "ipython3",
   "version": "3.7.9-final"
  }
 },
 "nbformat": 4,
 "nbformat_minor": 5
}